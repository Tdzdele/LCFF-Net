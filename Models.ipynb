{
 "cells": [
  {
   "cell_type": "code",
   "execution_count": 13,
   "id": "260ed2d1-4f29-4185-af3d-09c4ff58574f",
   "metadata": {
    "jupyter": {
     "source_hidden": true
    }
   },
   "outputs": [
    {
     "name": "stdout",
     "output_type": "stream",
     "text": [
      "WARNING ⚠️ no model scale passed. Assuming scale='a'.\n",
      "LCFF-Net summary: 337 layers, 323921 parameters, 323905 gradients, 3.2 GFLOPs\n",
      "LCFF-Net summary (fused): 225 layers, 314165 parameters, 250617 gradients, 3.0 GFLOPs\n"
     ]
    }
   ],
   "source": [
    "#LCFF-Net-a\n",
    "from ultralytics import YOLO\n",
    "if __name__ == '__main__':\n",
    "    model = YOLO('ultralytics/cfg/models/LCFF-Net/LCFF-Net.yaml')\n",
    "    model.info(detailed=False)\n",
    "    model.fuse()"
   ]
  },
  {
   "cell_type": "code",
   "execution_count": 14,
   "id": "eb3dd583-3c73-4f7e-8d30-21225279c131",
   "metadata": {
    "jupyter": {
     "source_hidden": true
    }
   },
   "outputs": [
    {
     "name": "stdout",
     "output_type": "stream",
     "text": [
      "WARNING ⚠️ no model scale passed. Assuming scale='t'.\n",
      "LCFF-Net summary: 337 layers, 636238 parameters, 636222 gradients, 6.9 GFLOPs\n",
      "LCFF-Net summary (fused): 225 layers, 619110 parameters, 499378 gradients, 6.6 GFLOPs\n"
     ]
    }
   ],
   "source": [
    "#LCFF-Net-t\n",
    "from ultralytics import YOLO\n",
    "if __name__ == '__main__':\n",
    "    model = YOLO('ultralytics/cfg/models/LCFF-Net/LCFF-Net.yaml')\n",
    "    model.info(detailed=False)\n",
    "    model.fuse()"
   ]
  },
  {
   "cell_type": "code",
   "execution_count": 15,
   "id": "a56b0afb-2193-4f38-b461-b98232e72c6b",
   "metadata": {
    "jupyter": {
     "source_hidden": true
    }
   },
   "outputs": [
    {
     "name": "stdout",
     "output_type": "stream",
     "text": [
      "WARNING ⚠️ no model scale passed. Assuming scale='n'.\n",
      "LCFF-Net summary: 337 layers, 1275745 parameters, 1275729 gradients, 12.1 GFLOPs\n",
      "LCFF-Net summary (fused): 225 layers, 1242165 parameters, 988473 gradients, 11.6 GFLOPs\n"
     ]
    }
   ],
   "source": [
    "#LCFF-Net-n\n",
    "from ultralytics import YOLO\n",
    "if __name__ == '__main__':\n",
    "    model = YOLO('ultralytics/cfg/models/LCFF-Net/LCFF-Net.yaml')\n",
    "    model.info(detailed=False)\n",
    "    model.fuse()"
   ]
  },
  {
   "cell_type": "code",
   "execution_count": 17,
   "id": "696e3feb-f881-48b8-ba3c-f7ff684e1f36",
   "metadata": {
    "jupyter": {
     "source_hidden": true
    }
   },
   "outputs": [
    {
     "name": "stdout",
     "output_type": "stream",
     "text": [
      "WARNING ⚠️ no model scale passed. Assuming scale='s'.\n",
      "LCFF-Net summary: 337 layers, 5067417 parameters, 5067401 gradients, 47.2 GFLOPs\n",
      "LCFF-Net summary (fused): 225 layers, 4943749 parameters, 3927897 gradients, 45.9 GFLOPs\n"
     ]
    }
   ],
   "source": [
    "#LCFF-Net-s\n",
    "from ultralytics import YOLO\n",
    "if __name__ == '__main__':\n",
    "    model = YOLO('ultralytics/cfg/models/LCFF-Net/LCFF-Net.yaml')\n",
    "    model.info(detailed=False)\n",
    "    model.fuse()"
   ]
  },
  {
   "cell_type": "code",
   "execution_count": 19,
   "id": "54ad1d3f-9f3a-4272-ab43-98d11d833158",
   "metadata": {
    "jupyter": {
     "source_hidden": true
    }
   },
   "outputs": [
    {
     "name": "stdout",
     "output_type": "stream",
     "text": [
      "WARNING ⚠️ no model scale passed. Assuming scale='m'.\n",
      "LCFF-Net summary: 337 layers, 9264405 parameters, 9264389 gradients, 103.7 GFLOPs\n",
      "LCFF-Net summary (fused): 225 layers, 9059825 parameters, 7351621 gradients, 101.2 GFLOPs\n"
     ]
    }
   ],
   "source": [
    "#LCFF-Net-m\n",
    "from ultralytics import YOLO\n",
    "if __name__ == '__main__':\n",
    "    model = YOLO('ultralytics/cfg/models/LCFF-Net/LCFF-Net.yaml')\n",
    "    model.info(detailed=False)\n",
    "    model.fuse()"
   ]
  },
  {
   "cell_type": "code",
   "execution_count": 20,
   "id": "2a65d9cc-b9fd-4392-903d-9eb45c97f891",
   "metadata": {
    "jupyter": {
     "source_hidden": true
    }
   },
   "outputs": [
    {
     "name": "stdout",
     "output_type": "stream",
     "text": [
      "WARNING ⚠️ no model scale passed. Assuming scale='l'.\n",
      "LCFF-Net summary: 359 layers, 14080309 parameters, 14080293 gradients, 183.0 GFLOPs\n",
      "LCFF-Net summary (fused): 247 layers, 13807049 parameters, 11507917 gradients, 178.9 GFLOPs\n"
     ]
    }
   ],
   "source": [
    "#LCFF-Net-l\n",
    "from ultralytics import YOLO\n",
    "if __name__ == '__main__':\n",
    "    model = YOLO('ultralytics/cfg/models/LCFF-Net/LCFF-Net.yaml')\n",
    "    model.info(detailed=False)\n",
    "    model.fuse()"
   ]
  },
  {
   "cell_type": "code",
   "execution_count": null,
   "id": "2ac5ae92-eea2-4416-955e-d9017938fde2",
   "metadata": {},
   "outputs": [],
   "source": []
  }
 ],
 "metadata": {
  "kernelspec": {
   "display_name": "Python 3 (ipykernel)",
   "language": "python",
   "name": "python3"
  },
  "language_info": {
   "codemirror_mode": {
    "name": "ipython",
    "version": 3
   },
   "file_extension": ".py",
   "mimetype": "text/x-python",
   "name": "python",
   "nbconvert_exporter": "python",
   "pygments_lexer": "ipython3",
   "version": "3.12.3"
  }
 },
 "nbformat": 4,
 "nbformat_minor": 5
}
